{
 "cells": [
  {
   "cell_type": "code",
   "execution_count": 3,
   "metadata": {},
   "outputs": [
    {
     "name": "stdout",
     "output_type": "stream",
     "text": [
      "13\n",
      "3\n",
      "4.0\n",
      "40000\n",
      "32768\n",
      "1\n",
      "0\n"
     ]
    }
   ],
   "source": [
    "print(8+5) #더하기\n",
    "print(8-5) #빼기\n",
    "print(100/25) #나누기\n",
    "print(8*5000) #(곱하기)\n",
    "print(8**5) #거듭제곱\n",
    "print(8//5) # 나눗셈의 몫..?\n",
    "print(100%25) #나눗셈의 나머지.. 구하기..?"
   ]
  },
  {
   "cell_type": "code",
   "execution_count": 11,
   "metadata": {},
   "outputs": [
    {
     "name": "stdout",
     "output_type": "stream",
     "text": [
      "-11.5\n",
      "-11.5\n",
      "<class 'int'>\n",
      "<class 'float'>\n"
     ]
    },
    {
     "data": {
      "text/plain": [
       "'29.5'"
      ]
     },
     "execution_count": 11,
     "metadata": {},
     "output_type": "execute_result"
    }
   ],
   "source": [
    "정수형1=18\n",
    "정수형2=29.5\n",
    "정수형3=47.5\n",
    "정수형4=100\n",
    "print(정수형1-정수형2)\n",
    "결과값=0\n",
    "결과값=(정수형1-정수형2)\n",
    "print(결과값)\n",
    "print(type(정수형1))\n",
    "print(type(정수형2))\n",
    "int(정수형2)\n",
    "float(정수형1)\n",
    "str(정수형2)"
   ]
  },
  {
   "cell_type": "code",
   "execution_count": 13,
   "metadata": {},
   "outputs": [
    {
     "data": {
      "text/plain": [
       "'too short'"
      ]
     },
     "execution_count": 13,
     "metadata": {},
     "output_type": "execute_result"
    }
   ],
   "source": [
    "s=' life is too short '\n",
    "s[8]\n",
    "s[8:17]"
   ]
  },
  {
   "cell_type": "code",
   "execution_count": 21,
   "metadata": {},
   "outputs": [
    {
     "data": {
      "text/plain": [
       "-1"
      ]
     },
     "execution_count": 21,
     "metadata": {},
     "output_type": "execute_result"
    }
   ],
   "source": [
    "len(s)\n",
    "s.count('o')\n",
    "s.upper()\n",
    "s.lower()\n",
    "s.strip()\n",
    "s.replace(\"short\",\"hard\")\n",
    "s.find('too')\n",
    "s.find('many')\n",
    "s.rfind('too')"
   ]
  }
 ],
 "metadata": {
  "kernelspec": {
   "display_name": "Python 3.10.6 64-bit",
   "language": "python",
   "name": "python3"
  },
  "language_info": {
   "codemirror_mode": {
    "name": "ipython",
    "version": 3
   },
   "file_extension": ".py",
   "mimetype": "text/x-python",
   "name": "python",
   "nbconvert_exporter": "python",
   "pygments_lexer": "ipython3",
   "version": "3.10.6"
  },
  "orig_nbformat": 4,
  "vscode": {
   "interpreter": {
    "hash": "67e0cbc25fa4f5baaacba1240f401bc655b640f8e15cfc935dfee2e63491bdf4"
   }
  }
 },
 "nbformat": 4,
 "nbformat_minor": 2
}
